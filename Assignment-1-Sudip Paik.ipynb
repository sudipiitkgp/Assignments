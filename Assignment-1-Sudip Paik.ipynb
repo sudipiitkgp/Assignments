{
 "cells": [
  {
   "cell_type": "code",
   "execution_count": null,
   "id": "ac3195ea",
   "metadata": {},
   "outputs": [],
   "source": [
    "1. In the below elements which of them are values or an expression? eg:- values can be integer or string and expressions will be mathematical operators.\n",
    "* : Expression()\n",
    "'hello' : Value(str)\n",
    "-87.8 : Value(float)\n",
    "- : Expression\n",
    "/  : Expression\n",
    "+\t: Expression\n",
    "6 : Value (int)"
   ]
  },
  {
   "cell_type": "code",
   "execution_count": null,
   "id": "25a5a4b6",
   "metadata": {},
   "outputs": [],
   "source": [
    "2. What is the difference between string and variable?\n",
    "Ans. Variables are placeholders where we can store data. A Variable can store a string as its value but we can not say the same for a string.\n"
   ]
  },
  {
   "cell_type": "code",
   "execution_count": null,
   "id": "57b9e1ee",
   "metadata": {},
   "outputs": [],
   "source": [
    "3. Describe three different data types.\n",
    "Ans. Three fundamental data types: int() : integers are whole numbers that can be positive and negative (eg. A = 10, b = 30) ; float() : floats are decimal numbers (eg. B = -45.658), and str() : strings are sequences of characters usually comes inside of  ‘  ’ or “ ”. eg(s = ‘Sudip’)"
   ]
  },
  {
   "cell_type": "code",
   "execution_count": null,
   "id": "62acf0a2",
   "metadata": {},
   "outputs": [],
   "source": [
    "4. What is an expression made up of? What do all expressions do?\n",
    "Ans. Expressions are made up of variables, values, operators, functions etc. eg. ‘x – 5 = 5’ is an expression an expression that sets the value of the variable x to 10. So basically expressions are fundamental building blocks that produces value or result."
   ]
  },
  {
   "cell_type": "code",
   "execution_count": null,
   "id": "0f24b0b8",
   "metadata": {},
   "outputs": [],
   "source": [
    "5. This assignment statements, like spam = 10. What is the difference between an expression and a statement?\n",
    "Ans. A statement is a complete instruction that performs an action and does not produce a value. Here spam = 10 is a statement that set a variable to a specific value. while statements execute actions , expressions produce a value."
   ]
  },
  {
   "cell_type": "code",
   "execution_count": null,
   "id": "e22d4ddb",
   "metadata": {},
   "outputs": [],
   "source": [
    "6. After running the following code, what does the variable bacon contain?\n",
    "bacon = 22\n",
    "bacon + 1\n",
    "Ans. 23"
   ]
  },
  {
   "cell_type": "code",
   "execution_count": null,
   "id": "8c81da8c",
   "metadata": {},
   "outputs": [],
   "source": [
    "7. What should the values of the following two terms be?\n",
    "'spam' + 'spamspam'                               Ans. spamspamspam\n",
    "'spam' * 3                                        Ans. spamspamspam"
   ]
  },
  {
   "cell_type": "code",
   "execution_count": null,
   "id": "32ac881b",
   "metadata": {},
   "outputs": [],
   "source": [
    "8. Why is eggs a valid variable name while 100 is invalid?\n",
    "Ans. Variable name cannot start with a number, however if we put underscore or any kind of alphabet or letters before 100 it can be used as a variable(like  “abcd_100”). On the other hand eggs contain only letters(str) that’s why it is a valid variable."
   ]
  },
  {
   "cell_type": "code",
   "execution_count": null,
   "id": "6917b43f",
   "metadata": {},
   "outputs": [],
   "source": [
    "9. What three functions can be used to get the integer, floating-point number, or string version of a value?\n",
    "Ans. Int() , float() , str() respectively."
   ]
  },
  {
   "cell_type": "code",
   "execution_count": null,
   "id": "b69a7b03",
   "metadata": {},
   "outputs": [],
   "source": [
    "10. Why does this expression cause an error? How can you fix it?\n",
    "'I have eaten ' + 99 + ' burritos.'\n",
    "Ans. Either we can rewrite 99 as str(99) or write it within quotation mark like ‘99’ to fix the error. "
   ]
  }
 ],
 "metadata": {
  "kernelspec": {
   "display_name": "Python 3 (ipykernel)",
   "language": "python",
   "name": "python3"
  },
  "language_info": {
   "codemirror_mode": {
    "name": "ipython",
    "version": 3
   },
   "file_extension": ".py",
   "mimetype": "text/x-python",
   "name": "python",
   "nbconvert_exporter": "python",
   "pygments_lexer": "ipython3",
   "version": "3.9.12"
  }
 },
 "nbformat": 4,
 "nbformat_minor": 5
}
